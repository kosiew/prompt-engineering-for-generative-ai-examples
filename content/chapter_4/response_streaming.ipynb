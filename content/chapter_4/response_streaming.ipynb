{
 "cells": [
  {
   "cell_type": "code",
   "execution_count": 40,
   "id": "d62b683f-12ae-4de6-9a38-979d03212c8c",
   "metadata": {},
   "outputs": [],
   "source": [
    "from langchain_openai.chat_models import ChatOpenAI\n",
    "from langchain.schema import AIMessage, HumanMessage, SystemMessage\n",
    "import random\n",
    "MODEL = 'gpt-4o-mini'\n",
    "# Initialize ChatOpenAI with a specific temperature setting\n",
    "chat = ChatOpenAI(model_name = MODEL, temperature=0.9)\n",
    "\n"
   ]
  },
  {
   "cell_type": "code",
   "execution_count": 35,
   "id": "2d10630f-69cb-43a2-948a-1a854f10ab28",
   "metadata": {},
   "outputs": [],
   "source": [
    "\n",
    "def get_messages():\n",
    "    prompts = [\n",
    "        \"Please tell me a funny joke about software engineers.\",\n",
    "        \"Can you share a humorous joke involving software engineers?\",\n",
    "        \"I'd love to hear a joke about software engineers that's really funny.\",\n",
    "        \"Do you have a good joke about software engineers?\",\n",
    "        \"Tell me a hilarious joke about software engineers.\"\n",
    "    ]\n",
    "    \n",
    "    # Choose a random prompt variation each time\n",
    "    selected_prompt = random.choice(prompts)\n",
    "    seed = random.randint(0,9999999)\n",
    "    messages = [\n",
    "        SystemMessage(content=f'Random seed = {seed}'),\n",
    "        SystemMessage(content=f'''Act as a senior software engineer\n",
    "        at a startup company.'''),\n",
    "        HumanMessage(content=selected_prompt)\n",
    "    ]\n",
    "    return messages\n",
    "\n",
    "\n",
    "def converse(chat):\n",
    "    messages = get_messages()\n",
    "    # Stream the response\n",
    "    for chunk in chat.stream(messages):\n",
    "        print(chunk.content, end=\"\", flush=True)\n"
   ]
  },
  {
   "cell_type": "code",
   "execution_count": 44,
   "id": "5f279da0-0ce4-4a22-b7e3-dd924e579fc0",
   "metadata": {},
   "outputs": [
    {
     "name": "stdout",
     "output_type": "stream",
     "text": [
      "Sure! Here’s one for you:\n",
      "\n",
      "Why do software engineers prefer dark mode?\n",
      "\n",
      "Because light attracts bugs!"
     ]
    }
   ],
   "source": [
    "converse(chat)"
   ]
  },
  {
   "cell_type": "code",
   "execution_count": 54,
   "id": "86a34966-5929-4ffa-b4cc-ee300e46bc84",
   "metadata": {},
   "outputs": [
    {
     "name": "stdout",
     "output_type": "stream",
     "text": [
      "[AIMessage(content='Why do software engineers prefer dark mode? \\n\\nBecause light attracts bugs!', response_metadata={'token_usage': {'completion_tokens': 14, 'prompt_tokens': 31, 'total_tokens': 45}, 'model_name': 'gpt-4o-mini', 'system_fingerprint': 'fp_0f03d4f0ee', 'finish_reason': 'stop', 'logprobs': None}, id='run-7ef07943-9d22-4936-a75c-d2c800fa9a1b-0'), AIMessage(content='Why do software engineers prefer dark mode?\\n\\nBecause light attracts bugs!', response_metadata={'token_usage': {'completion_tokens': 13, 'prompt_tokens': 31, 'total_tokens': 44}, 'model_name': 'gpt-4o-mini', 'system_fingerprint': 'fp_0f03d4f0ee', 'finish_reason': 'stop', 'logprobs': None}, id='run-c383ae91-00f0-4ec6-ac49-7cf8b6dd0515-0')]\n"
     ]
    }
   ],
   "source": [
    "synchronous_llm_result = chat.batch([messages]*2)\n",
    "print(synchronous_llm_result)"
   ]
  },
  {
   "cell_type": "code",
   "execution_count": 9,
   "id": "30433def-74e5-4836-abeb-0c73bfc5e2a0",
   "metadata": {},
   "outputs": [
    {
     "data": {
      "text/plain": [
       "ChatOpenAI(client=<openai.resources.chat.completions.Completions object at 0x10a9bfd30>, async_client=<openai.resources.chat.completions.AsyncCompletions object at 0x10a9bcb50>, temperature=0.9, openai_api_key=SecretStr('**********'), openai_proxy='')"
      ]
     },
     "execution_count": 9,
     "metadata": {},
     "output_type": "execute_result"
    }
   ],
   "source": [
    "chat"
   ]
  },
  {
   "cell_type": "markdown",
   "id": "d37d84a3-4d9b-4efb-8717-93716b6f5ec2",
   "metadata": {},
   "source": [
    "## OpenAI"
   ]
  },
  {
   "cell_type": "code",
   "execution_count": 53,
   "id": "49326e32-91e6-4e71-95bf-18394feb5d2f",
   "metadata": {},
   "outputs": [
    {
     "name": "stdout",
     "output_type": "stream",
     "text": [
      "Selected Prompt: Tell me a hilarious joke about software engineers.\n",
      "Sure, here's one for you:\n",
      "\n",
      "Why do software engineers prefer dark mode?\n",
      "\n",
      "Because light attracts bugs!\n"
     ]
    }
   ],
   "source": [
    "from openai import OpenAI\n",
    "import random\n",
    "\n",
    "client = OpenAI()\n",
    "\n",
    "def print_reply(response):\n",
    "    print(response.choices[0].message.content)\n",
    "    \n",
    "# Define prompt variations\n",
    "prompts = [\n",
    "    \"Please tell me a funny joke about software engineers.\",\n",
    "    \"Can you share a humorous joke involving software engineers?\",\n",
    "    \"I'd love to hear a joke about software engineers that's really funny.\",\n",
    "    \"Do you have a good joke about software engineers?\",\n",
    "    \"Tell me a hilarious joke about software engineers.\"\n",
    "]\n",
    "\n",
    "# Choose a random prompt variation each time\n",
    "selected_prompt = random.choice(prompts)\n",
    "\n",
    "# Define the messages\n",
    "messages = [\n",
    "    {\"role\": \"system\", \"content\": '''Act as a senior software engineer at a startup company.'''},\n",
    "    {\"role\": \"user\", \"content\": selected_prompt}\n",
    "]\n",
    "\n",
    "# Print the selected prompt for debugging purposes\n",
    "print(f\"Selected Prompt: {selected_prompt}\")\n",
    "\n",
    "# Send a streaming request to OpenAI\n",
    "response = client.chat.completions.create(\n",
    "    model=MODEL,  # Specify the model you want to use\n",
    "    messages=messages,\n",
    ")\n",
    "\n",
    "print_reply(response)"
   ]
  },
  {
   "cell_type": "code",
   "execution_count": null,
   "id": "91db992e-97f7-45dd-8b0a-9497c368425c",
   "metadata": {},
   "outputs": [],
   "source": []
  }
 ],
 "metadata": {
  "kernelspec": {
   "display_name": "Python 3 (ipykernel)",
   "language": "python",
   "name": "python3"
  },
  "language_info": {
   "codemirror_mode": {
    "name": "ipython",
    "version": 3
   },
   "file_extension": ".py",
   "mimetype": "text/x-python",
   "name": "python",
   "nbconvert_exporter": "python",
   "pygments_lexer": "ipython3",
   "version": "3.9.17"
  }
 },
 "nbformat": 4,
 "nbformat_minor": 5
}
